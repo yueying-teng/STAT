{
 "cells": [
  {
   "cell_type": "markdown",
   "metadata": {},
   "source": [
    "**Bar Chart**\n",
    "- The columns are positioned over a label that represents a **categorical variable.**\n",
    "- The height of the column indicates the size of the group defined by the categories.\n",
    "\n",
    "**Histogram**\n",
    "- The columns are positioned over a label that represents a **quantitative variable.**\n",
    "- The column label can be a single value or a range of values.\n",
    "\n",
    "Usually there is gap between columns in bar chart, but not in histgram."
   ]
  },
  {
   "cell_type": "markdown",
   "metadata": {},
   "source": [
    "Histogram from scratch\n",
    "- Define value range of histogram bin_min, bin_max\n",
    "- Divide range into bins bin[k], ..., bin[k]\n",
    "- The bins may have variying width\n",
    "- Count the number of samples in each bin sample_count[k]\n",
    "- Draw a rectangle for each bin with height:\n",
    "   - h[k] = sample_count[k] -- non normalized\n",
    "   - h[k] = sample_count[k] / bin_width[k] -- normalized case"
   ]
  },
  {
   "cell_type": "code",
   "execution_count": 71,
   "metadata": {},
   "outputs": [],
   "source": [
    "import numpy as np \n",
    "import pandas as pd\n",
    "\n",
    "from scipy import stats\n",
    "\n",
    "import matplotlib.pyplot as plt \n",
    "% matplotlib inline\n",
    "import seaborn as sns"
   ]
  },
  {
   "cell_type": "code",
   "execution_count": 50,
   "metadata": {},
   "outputs": [
    {
     "name": "stdout",
     "output_type": "stream",
     "text": [
      "724.97277832\n",
      "2054.3815918\n",
      "[  905.91905212  1399.66320801  1626.32653809  2054.3815918 ]\n"
     ]
    }
   ],
   "source": [
    "# get everything in the second column\n",
    "x = np.loadtxt(\"DataSets/RequestRates.csv\", delimiter = \",\")[:, 1]\n",
    "\n",
    "# some summary statistics\n",
    "stats.describe(x)\n",
    "\n",
    "# the range\n",
    "print (np.sort(x)[0])\n",
    "print (np.sort(x)[-1])\n",
    "\n",
    "# quantiles \n",
    "print (np.percentile(x, [25, 50 ,75, 100]))"
   ]
  },
  {
   "cell_type": "code",
   "execution_count": 52,
   "metadata": {},
   "outputs": [
    {
     "name": "stdout",
     "output_type": "stream",
     "text": [
      "Bins: [[500, 700], [700, 800], [800, 900], [900, 1000], [1000, 1500], [1500, 1800], [1800, 2000], [2000, 2200]]\n"
     ]
    }
   ],
   "source": [
    "# step 1: represents bins with a list of left-edges\n",
    "bin_left = [500, 700, 800, 900, 1000, 1500, 1800, 2000, 2200]\n",
    "\n",
    "bin_min = bin_left[0]\n",
    "bin_max = bin_left[-1]\n",
    "\n",
    "# create the bins with both edges, they could be of different length\n",
    "bins = [[bin_left[i-1], bin_left[i]] for i in range(1 , len(bin_left))]\n",
    "print ('Bins: {}'.format(bins))\n"
   ]
  },
  {
   "cell_type": "markdown",
   "metadata": {},
   "source": [
    "enumerate(iterable[, start]) -> iterator for index, value of iterable\n",
    "\n",
    "Return an enumerate object.  iterable must be another object that supports iteration.  \n",
    "The enumerate object yields pairs containing a count (from start, which defaults to zero) and a value yielded by the iterable argument.\n",
    "\n",
    "enumerate is useful for obtaining an indexed list:\n",
    "(0, seq[0]), (1, seq[1]), (2, seq[2]), ..."
   ]
  },
  {
   "cell_type": "code",
   "execution_count": 60,
   "metadata": {},
   "outputs": [
    {
     "name": "stdout",
     "output_type": "stream",
     "text": [
      "0 [500, 700]\n",
      "1 [700, 800]\n",
      "2 [800, 900]\n",
      "3 [900, 1000]\n",
      "4 [1000, 1500]\n",
      "5 [1500, 1800]\n",
      "6 [1800, 2000]\n",
      "7 [2000, 2200]\n"
     ]
    }
   ],
   "source": [
    "for i, bin in enumerate(bins):\n",
    "    print (i, bin)"
   ]
  },
  {
   "cell_type": "code",
   "execution_count": 65,
   "metadata": {},
   "outputs": [
    {
     "name": "stdout",
     "output_type": "stream",
     "text": [
      "counts: [0, 10, 8, 4, 25, 23, 4, 2]\n"
     ]
    }
   ],
   "source": [
    "# step 2: count the number of samples in bins \n",
    "# as histogram is still a plot of number of points that fall into each bin\n",
    "# when it is not normalized \n",
    "# if it is normalized, it is the area of the bins that explains the number of samples in each bin\n",
    "\n",
    "def count(x, bins):\n",
    "    def findbin(x, bins):\n",
    "        for i, bin in enumerate(bins):\n",
    "            left, right = bin\n",
    "            if left <= x and x < right:\n",
    "                return i\n",
    "        return None\n",
    "\n",
    "    count = [0] * len(bins)\n",
    "    for x in x:\n",
    "        i = findbin(x, bins)\n",
    "        if i != None:\n",
    "            count[i] += 1\n",
    "            \n",
    "    return count \n",
    "\n",
    "sample_count = count(x, bins)\n",
    "\n",
    "print (\"counts: {}\".format(sample_count))"
   ]
  },
  {
   "cell_type": "code",
   "execution_count": 70,
   "metadata": {},
   "outputs": [
    {
     "data": {
      "text/plain": [
       "76"
      ]
     },
     "execution_count": 70,
     "metadata": {},
     "output_type": "execute_result"
    }
   ],
   "source": [
    "sum([0, 10, 8, 4, 25, 23, 4, 2])"
   ]
  },
  {
   "cell_type": "markdown",
   "metadata": {},
   "source": [
    "- use *args when you're not sure how many arguments might be passed to your function, i.e. it allows you pass an arbitrary number of arguments to your function.\n",
    "\n",
    "- Similarly, ****kwargs allows you to handle named arguments that you have not defined in advance"
   ]
  },
  {
   "cell_type": "code",
   "execution_count": 103,
   "metadata": {},
   "outputs": [
    {
     "data": {
      "image/png": "[encoded data removed]",
      "text/plain": [
       "<matplotlib.figure.Figure at 0x11428f7b8>"
      ]
     },
     "metadata": {},
     "output_type": "display_data"
    }
   ],
   "source": [
    "# step 3: plot the histogram\n",
    "# normalized histogram has bin area as the number of samples fall into that bin\n",
    "\n",
    "\n",
    "def histogram (x, bins, normed = True, **kwargs):\n",
    "    # get the left edge for each bin then use the right edge together to find the widh of the bin\n",
    "    bin_left = [ i for i, r in bins]\n",
    "    # plot should have left edges of bins aligned with the bin_left list \n",
    "    bin_width =[ r - i for i, r in bins]\n",
    "    bin_height = [\n",
    "        float(c/ w) if normed else c\n",
    "        for c, w in zip(count(x, bins), bin_width)\n",
    "    ]\n",
    "    \n",
    "    plt.bar(bin_left, width = bin_width, align = 'edge', height = bin_height, **kwargs)\n",
    "    \n",
    "plt.figure(figsize = (10, 5))\n",
    "\n",
    "histogram(x, bins)"
   ]
  },
  {
   "cell_type": "code",
   "execution_count": 101,
   "metadata": {},
   "outputs": [
    {
     "name": "stdout",
     "output_type": "stream",
     "text": [
      "[500, 700, 800, 900, 1000, 1500, 1800, 2000]\n",
      "[200, 100, 100, 100, 500, 300, 200, 200]\n",
      "[[500, 700], [700, 800], [800, 900], [900, 1000], [1000, 1500], [1500, 1800], [1800, 2000], [2000, 2200]]\n",
      "[0.0, 0.1, 0.08, 0.04, 0.05, 0.07666666666666666, 0.02, 0.01]\n"
     ]
    },
    {
     "data": {
      "text/plain": [
       "<Container object of 8 artists>"
      ]
     },
     "execution_count": 101,
     "metadata": {},
     "output_type": "execute_result"
    },
    {
     "data": {
      "image/png": "[encoded data removed]",
      "text/plain": [
       "<matplotlib.figure.Figure at 0x114083b00>"
      ]
     },
     "metadata": {},
     "output_type": "display_data"
    }
   ],
   "source": [
    "print (bin_left)\n",
    "print (bin_width)\n",
    "bin_height = [ c/w for c,w in zip(count(x, bins), bin_width)]\n",
    "print (bins)\n",
    "print (bin_height)\n",
    "\n",
    "plt.bar(bin_left, width = bin_width, height = bin_height, align = \"edge\")"
   ]
  },
  {
   "cell_type": "code",
   "execution_count": 94,
   "metadata": {
    "collapsed": true
   },
   "outputs": [],
   "source": [
    "# choice of bins influences the look of the histogram"
   ]
  },
  {
   "cell_type": "code",
   "execution_count": 95,
   "metadata": {},
   "outputs": [],
   "source": [
    "# plt.hist(x)"
   ]
  },
  {
   "cell_type": "code",
   "execution_count": 96,
   "metadata": {
    "collapsed": true
   },
   "outputs": [],
   "source": [
    "def plot_hist(x, bin_min, bin_max, bin_width):\n",
    "    plt.figure (figsize = (10, 10))\n",
    "    bins = [[i, i + bin_width] for i in np.arange(bin_min, bin_max, bin_width)]\n",
    "    histogram(x, bins)\n",
    "    \n",
    "    print (\"histogram with bin_width: {}\".format(bin_width))\n",
    "    \n",
    "    plt.show()"
   ]
  },
  {
   "cell_type": "code",
   "execution_count": 97,
   "metadata": {},
   "outputs": [
    {
     "name": "stdout",
     "output_type": "stream",
     "text": [
      "histogram with bin_width: 10\n"
     ]
    },
    {
     "data": {
      "image/png": "[encoded data removed]",
      "text/plain": [
       "<matplotlib.figure.Figure at 0x10b9079e8>"
      ]
     },
     "metadata": {},
     "output_type": "display_data"
    }
   ],
   "source": [
    "bin_min = 600\n",
    "bin_max = 2200\n",
    "plot_hist(x, bin_min, bin_max, 10)"
   ]
  },
  {
   "cell_type": "code",
   "execution_count": 98,
   "metadata": {},
   "outputs": [
    {
     "data": {
      "text/plain": [
       "724.97277832031205"
      ]
     },
     "execution_count": 98,
     "metadata": {},
     "output_type": "execute_result"
    }
   ],
   "source": [
    "min(x)"
   ]
  },
  {
   "cell_type": "code",
   "execution_count": null,
   "metadata": {
    "collapsed": true
   },
   "outputs": [],
   "source": []
  }
 ],
 "metadata": {
  "kernelspec": {
   "display_name": "Python 3",
   "language": "python",
   "name": "python3"
  },
  "language_info": {
   "codemirror_mode": {
    "name": "ipython",
    "version": 3
   },
   "file_extension": ".py",
   "mimetype": "text/x-python",
   "name": "python",
   "nbconvert_exporter": "python",
   "pygments_lexer": "ipython3",
   "version": "3.5.2"
  }
 },
 "nbformat": 4,
 "nbformat_minor": 2
}
