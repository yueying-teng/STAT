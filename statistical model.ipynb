{
 "cells": [
  {
   "cell_type": "code",
   "execution_count": 3,
   "metadata": {},
   "outputs": [],
   "source": [
    "import pandas as pd\n",
    "import numpy as np\n",
    "\n",
    "import seaborn as sns\n",
    "import matplotlib.pyplot as plt\n",
    "% matplotlib inline"
   ]
  },
  {
   "cell_type": "markdown",
   "metadata": {},
   "source": [
    "### Fitting data to probability distribution\n",
    "In parametric inference, specify a priori a suitable distribution, then choose the parameters that best fit the data.\n",
    "\n",
    "- Method of moments chooses the parameters so that the sample moments (mean and variance typically) match that of the theoretcal moments of the chosen distribution.\n",
    "- Maximum Likelihood chooses the parameters to maximize the likelihood, which measures how likely it is to observe from the given sample."
   ]
  },
  {
   "cell_type": "code",
   "execution_count": 8,
   "metadata": {},
   "outputs": [
    {
     "name": "stdout",
     "output_type": "stream",
     "text": [
      "Help on function kde in module pandas.plotting._core:\n",
      "\n",
      "kde(self, **kwds)\n",
      "    Kernel Density Estimate plot\n",
      "    \n",
      "    .. versionadded:: 0.17.0\n",
      "    \n",
      "    Parameters\n",
      "    ----------\n",
      "    **kwds : optional\n",
      "        Keyword arguments to pass on to :py:meth:`pandas.DataFrame.plot`.\n",
      "    \n",
      "    Returns\n",
      "    -------\n",
      "    axes : matplotlib.AxesSubplot or np.array of them\n",
      "\n"
     ]
    }
   ],
   "source": [
    "# density plot kernel dedity estimate \n",
    "help(pd.DataFrame.plot.density)"
   ]
  },
  {
   "cell_type": "code",
   "execution_count": 28,
   "metadata": {},
   "outputs": [
    {
     "data": {
      "text/html": [
       "<div>\n",
       "<style>\n",
       "    .dataframe thead tr:only-child th {\n",
       "        text-align: right;\n",
       "    }\n",
       "\n",
       "    .dataframe thead th {\n",
       "        text-align: left;\n",
       "    }\n",
       "\n",
       "    .dataframe tbody tr th {\n",
       "        vertical-align: top;\n",
       "    }\n",
       "</style>\n",
       "<table border=\"1\" class=\"dataframe\">\n",
       "  <thead>\n",
       "    <tr style=\"text-align: right;\">\n",
       "      <th></th>\n",
       "      <th>Jan</th>\n",
       "      <th>Feb</th>\n",
       "      <th>Mar</th>\n",
       "      <th>Apr</th>\n",
       "      <th>May</th>\n",
       "      <th>Jun</th>\n",
       "      <th>Jul</th>\n",
       "      <th>Aug</th>\n",
       "      <th>Sep</th>\n",
       "      <th>Oct</th>\n",
       "      <th>Nov</th>\n",
       "      <th>Dec</th>\n",
       "    </tr>\n",
       "    <tr>\n",
       "      <th>Year</th>\n",
       "      <th></th>\n",
       "      <th></th>\n",
       "      <th></th>\n",
       "      <th></th>\n",
       "      <th></th>\n",
       "      <th></th>\n",
       "      <th></th>\n",
       "      <th></th>\n",
       "      <th></th>\n",
       "      <th></th>\n",
       "      <th></th>\n",
       "      <th></th>\n",
       "    </tr>\n",
       "  </thead>\n",
       "  <tbody>\n",
       "    <tr>\n",
       "      <th>1871</th>\n",
       "      <td>2.76</td>\n",
       "      <td>4.58</td>\n",
       "      <td>5.01</td>\n",
       "      <td>4.13</td>\n",
       "      <td>3.30</td>\n",
       "      <td>2.98</td>\n",
       "      <td>1.58</td>\n",
       "      <td>2.36</td>\n",
       "      <td>0.95</td>\n",
       "      <td>1.31</td>\n",
       "      <td>2.13</td>\n",
       "      <td>1.65</td>\n",
       "    </tr>\n",
       "    <tr>\n",
       "      <th>1872</th>\n",
       "      <td>2.32</td>\n",
       "      <td>2.11</td>\n",
       "      <td>3.14</td>\n",
       "      <td>5.91</td>\n",
       "      <td>3.09</td>\n",
       "      <td>5.17</td>\n",
       "      <td>6.10</td>\n",
       "      <td>1.65</td>\n",
       "      <td>4.50</td>\n",
       "      <td>1.58</td>\n",
       "      <td>2.25</td>\n",
       "      <td>2.38</td>\n",
       "    </tr>\n",
       "    <tr>\n",
       "      <th>1873</th>\n",
       "      <td>2.96</td>\n",
       "      <td>7.14</td>\n",
       "      <td>4.11</td>\n",
       "      <td>3.59</td>\n",
       "      <td>6.31</td>\n",
       "      <td>4.20</td>\n",
       "      <td>4.63</td>\n",
       "      <td>2.36</td>\n",
       "      <td>1.81</td>\n",
       "      <td>4.28</td>\n",
       "      <td>4.36</td>\n",
       "      <td>5.94</td>\n",
       "    </tr>\n",
       "    <tr>\n",
       "      <th>1874</th>\n",
       "      <td>5.22</td>\n",
       "      <td>9.23</td>\n",
       "      <td>5.36</td>\n",
       "      <td>11.84</td>\n",
       "      <td>1.49</td>\n",
       "      <td>2.87</td>\n",
       "      <td>2.65</td>\n",
       "      <td>3.52</td>\n",
       "      <td>3.12</td>\n",
       "      <td>2.63</td>\n",
       "      <td>6.12</td>\n",
       "      <td>4.19</td>\n",
       "    </tr>\n",
       "    <tr>\n",
       "      <th>1875</th>\n",
       "      <td>6.15</td>\n",
       "      <td>3.06</td>\n",
       "      <td>8.14</td>\n",
       "      <td>4.22</td>\n",
       "      <td>1.73</td>\n",
       "      <td>5.63</td>\n",
       "      <td>8.12</td>\n",
       "      <td>1.60</td>\n",
       "      <td>3.79</td>\n",
       "      <td>1.25</td>\n",
       "      <td>5.46</td>\n",
       "      <td>4.30</td>\n",
       "    </tr>\n",
       "  </tbody>\n",
       "</table>\n",
       "</div>"
      ],
      "text/plain": [
       "       Jan   Feb   Mar    Apr   May   Jun   Jul   Aug   Sep   Oct   Nov   Dec\n",
       "Year                                                                         \n",
       "1871  2.76  4.58  5.01   4.13  3.30  2.98  1.58  2.36  0.95  1.31  2.13  1.65\n",
       "1872  2.32  2.11  3.14   5.91  3.09  5.17  6.10  1.65  4.50  1.58  2.25  2.38\n",
       "1873  2.96  7.14  4.11   3.59  6.31  4.20  4.63  2.36  1.81  4.28  4.36  5.94\n",
       "1874  5.22  9.23  5.36  11.84  1.49  2.87  2.65  3.52  3.12  2.63  6.12  4.19\n",
       "1875  6.15  3.06  8.14   4.22  1.73  5.63  8.12  1.60  3.79  1.25  5.46  4.30"
      ]
     },
     "execution_count": 28,
     "metadata": {},
     "output_type": "execute_result"
    }
   ],
   "source": [
    "rain = pd.read_table(\"data/nashville_precip.txt\", index_col = 0, na_values = \"NA\", delim_whitespace = True)\n",
    "rain.head()"
   ]
  },
  {
   "cell_type": "code",
   "execution_count": 20,
   "metadata": {},
   "outputs": [
    {
     "data": {
      "text/plain": [
       "<matplotlib.figure.Figure at 0x1140ae518>"
      ]
     },
     "metadata": {},
     "output_type": "display_data"
    },
    {
     "data": {
      "image/png": "[encoded data removed]",
      "text/plain": [
       "<matplotlib.figure.Figure at 0x1140ae3c8>"
      ]
     },
     "metadata": {},
     "output_type": "display_data"
    }
   ],
   "source": [
    "fig = plt.figure(figsize = (10, 10))\n",
    "\n",
    "rain.hist(sharex = True, sharey = True, grid = False)\n",
    "plt.tight_layout()\n",
    "plt.show()"
   ]
  },
  {
   "cell_type": "markdown",
   "metadata": {},
   "source": [
    "The first step is recognixing what sort of distribution to fit the data to. A couple of observations:\n",
    "\n",
    "1. The data are skewed, with a longer tail to the right than to the left\n",
    "2. The data are positive-valued, since they are measuring rainfall\n",
    "3. The data are continuous\n",
    "\n",
    "There are a few possible choices, but one suitable alternative is the **gamma distribution**:\n",
    "\n",
    "<div style=\"font-size: 100%;\">  \n",
    "$$x \\sim \\text{Gamma}(\\alpha, \\beta) = \\frac{\\beta^{\\alpha}x^{\\alpha-1}e^{-\\beta x}}{\\Gamma(\\alpha)}$$\n",
    "</div>\n"
   ]
  },
  {
   "cell_type": "markdown",
   "metadata": {},
   "source": [
    "### MoM and MLE compare "
   ]
  },
  {
   "cell_type": "markdown",
   "metadata": {},
   "source": [
    "### The Method of Moments \n",
    "assigns the empirical parameters (could be mean and variance as in the assumed gamma distribution) to their theoretical counterparts, so that the parameters can be solved. \n",
    "\n",
    "for the gamma distribution, the mean and variance are:\n",
    "\n",
    "<div style=\"font-size: 100%;\">  \n",
    "$$ \\hat{\\mu} = \\bar{X} = \\alpha \\beta $$\n",
    "$$ \\hat{\\sigma}^2 = S^2 = \\alpha \\beta^2 $$\n",
    "</div>\n",
    "\n",
    "solve for these parameters, we can use a gamma distribution to describe our data:\n",
    "\n",
    "<div style=\"font-size: 100%;\">  \n",
    "$$ \\alpha = \\frac{\\bar{X}^2}{S^2}, \\, \\beta = \\frac{S^2}{\\bar{X}} $$\n",
    "</div>"
   ]
  },
  {
   "cell_type": "code",
   "execution_count": 29,
   "metadata": {},
   "outputs": [
    {
     "data": {
      "text/html": [
       "<div>\n",
       "<style>\n",
       "    .dataframe thead tr:only-child th {\n",
       "        text-align: right;\n",
       "    }\n",
       "\n",
       "    .dataframe thead th {\n",
       "        text-align: left;\n",
       "    }\n",
       "\n",
       "    .dataframe tbody tr th {\n",
       "        vertical-align: top;\n",
       "    }\n",
       "</style>\n",
       "<table border=\"1\" class=\"dataframe\">\n",
       "  <thead>\n",
       "    <tr style=\"text-align: right;\">\n",
       "      <th></th>\n",
       "      <th>Jan</th>\n",
       "      <th>Feb</th>\n",
       "      <th>Mar</th>\n",
       "      <th>Apr</th>\n",
       "      <th>May</th>\n",
       "      <th>Jun</th>\n",
       "      <th>Jul</th>\n",
       "      <th>Aug</th>\n",
       "      <th>Sep</th>\n",
       "      <th>Oct</th>\n",
       "      <th>Nov</th>\n",
       "      <th>Dec</th>\n",
       "    </tr>\n",
       "  </thead>\n",
       "  <tbody>\n",
       "    <tr>\n",
       "      <th>count</th>\n",
       "      <td>141.000000</td>\n",
       "      <td>141.000000</td>\n",
       "      <td>141.000000</td>\n",
       "      <td>141.000000</td>\n",
       "      <td>141.000000</td>\n",
       "      <td>141.000000</td>\n",
       "      <td>141.000000</td>\n",
       "      <td>141.000000</td>\n",
       "      <td>141.000000</td>\n",
       "      <td>140.000000</td>\n",
       "      <td>141.000000</td>\n",
       "      <td>141.000000</td>\n",
       "    </tr>\n",
       "    <tr>\n",
       "      <th>mean</th>\n",
       "      <td>4.523688</td>\n",
       "      <td>4.097801</td>\n",
       "      <td>4.977589</td>\n",
       "      <td>4.204468</td>\n",
       "      <td>4.325674</td>\n",
       "      <td>3.873475</td>\n",
       "      <td>3.895461</td>\n",
       "      <td>3.367305</td>\n",
       "      <td>3.377660</td>\n",
       "      <td>2.610500</td>\n",
       "      <td>3.685887</td>\n",
       "      <td>4.176241</td>\n",
       "    </tr>\n",
       "    <tr>\n",
       "      <th>std</th>\n",
       "      <td>2.632273</td>\n",
       "      <td>2.348757</td>\n",
       "      <td>2.316343</td>\n",
       "      <td>2.029063</td>\n",
       "      <td>2.303564</td>\n",
       "      <td>2.243481</td>\n",
       "      <td>1.943454</td>\n",
       "      <td>1.944190</td>\n",
       "      <td>2.222633</td>\n",
       "      <td>1.661741</td>\n",
       "      <td>1.918143</td>\n",
       "      <td>2.327665</td>\n",
       "    </tr>\n",
       "    <tr>\n",
       "      <th>min</th>\n",
       "      <td>0.190000</td>\n",
       "      <td>0.630000</td>\n",
       "      <td>0.850000</td>\n",
       "      <td>0.520000</td>\n",
       "      <td>0.830000</td>\n",
       "      <td>0.210000</td>\n",
       "      <td>0.460000</td>\n",
       "      <td>0.510000</td>\n",
       "      <td>0.130000</td>\n",
       "      <td>0.020000</td>\n",
       "      <td>0.540000</td>\n",
       "      <td>0.910000</td>\n",
       "    </tr>\n",
       "    <tr>\n",
       "      <th>25%</th>\n",
       "      <td>2.810000</td>\n",
       "      <td>2.330000</td>\n",
       "      <td>3.340000</td>\n",
       "      <td>2.880000</td>\n",
       "      <td>2.870000</td>\n",
       "      <td>2.310000</td>\n",
       "      <td>2.470000</td>\n",
       "      <td>1.870000</td>\n",
       "      <td>1.790000</td>\n",
       "      <td>1.447500</td>\n",
       "      <td>2.140000</td>\n",
       "      <td>2.450000</td>\n",
       "    </tr>\n",
       "    <tr>\n",
       "      <th>50%</th>\n",
       "      <td>3.760000</td>\n",
       "      <td>3.680000</td>\n",
       "      <td>4.590000</td>\n",
       "      <td>3.850000</td>\n",
       "      <td>4.050000</td>\n",
       "      <td>3.300000</td>\n",
       "      <td>3.610000</td>\n",
       "      <td>2.890000</td>\n",
       "      <td>3.070000</td>\n",
       "      <td>2.230000</td>\n",
       "      <td>3.400000</td>\n",
       "      <td>3.910000</td>\n",
       "    </tr>\n",
       "    <tr>\n",
       "      <th>75%</th>\n",
       "      <td>5.890000</td>\n",
       "      <td>5.050000</td>\n",
       "      <td>6.130000</td>\n",
       "      <td>5.110000</td>\n",
       "      <td>5.540000</td>\n",
       "      <td>4.980000</td>\n",
       "      <td>5.260000</td>\n",
       "      <td>4.300000</td>\n",
       "      <td>4.520000</td>\n",
       "      <td>3.575000</td>\n",
       "      <td>5.090000</td>\n",
       "      <td>5.360000</td>\n",
       "    </tr>\n",
       "    <tr>\n",
       "      <th>max</th>\n",
       "      <td>14.750000</td>\n",
       "      <td>12.370000</td>\n",
       "      <td>12.350000</td>\n",
       "      <td>11.840000</td>\n",
       "      <td>16.430000</td>\n",
       "      <td>11.950000</td>\n",
       "      <td>9.430000</td>\n",
       "      <td>9.600000</td>\n",
       "      <td>11.440000</td>\n",
       "      <td>8.350000</td>\n",
       "      <td>9.040000</td>\n",
       "      <td>13.630000</td>\n",
       "    </tr>\n",
       "  </tbody>\n",
       "</table>\n",
       "</div>"
      ],
      "text/plain": [
       "              Jan         Feb         Mar         Apr         May         Jun  \\\n",
       "count  141.000000  141.000000  141.000000  141.000000  141.000000  141.000000   \n",
       "mean     4.523688    4.097801    4.977589    4.204468    4.325674    3.873475   \n",
       "std      2.632273    2.348757    2.316343    2.029063    2.303564    2.243481   \n",
       "min      0.190000    0.630000    0.850000    0.520000    0.830000    0.210000   \n",
       "25%      2.810000    2.330000    3.340000    2.880000    2.870000    2.310000   \n",
       "50%      3.760000    3.680000    4.590000    3.850000    4.050000    3.300000   \n",
       "75%      5.890000    5.050000    6.130000    5.110000    5.540000    4.980000   \n",
       "max     14.750000   12.370000   12.350000   11.840000   16.430000   11.950000   \n",
       "\n",
       "              Jul         Aug         Sep         Oct         Nov         Dec  \n",
       "count  141.000000  141.000000  141.000000  140.000000  141.000000  141.000000  \n",
       "mean     3.895461    3.367305    3.377660    2.610500    3.685887    4.176241  \n",
       "std      1.943454    1.944190    2.222633    1.661741    1.918143    2.327665  \n",
       "min      0.460000    0.510000    0.130000    0.020000    0.540000    0.910000  \n",
       "25%      2.470000    1.870000    1.790000    1.447500    2.140000    2.450000  \n",
       "50%      3.610000    2.890000    3.070000    2.230000    3.400000    3.910000  \n",
       "75%      5.260000    4.300000    4.520000    3.575000    5.090000    5.360000  \n",
       "max      9.430000    9.600000   11.440000    8.350000    9.040000   13.630000  "
      ]
     },
     "execution_count": 29,
     "metadata": {},
     "output_type": "execute_result"
    }
   ],
   "source": [
    "# there's missing value in October \n",
    "rain.describe()"
   ]
  },
  {
   "cell_type": "code",
   "execution_count": 34,
   "metadata": {},
   "outputs": [
    {
     "name": "stdout",
     "output_type": "stream",
     "text": [
      "(141, 12)\n"
     ]
    },
    {
     "data": {
      "text/plain": [
       "Index(['Jan', 'Feb', 'Mar', 'Apr', 'May', 'Jun', 'Jul', 'Aug', 'Sep', 'Oct',\n",
       "       'Nov', 'Dec'],\n",
       "      dtype='object')"
      ]
     },
     "execution_count": 34,
     "metadata": {},
     "output_type": "execute_result"
    }
   ],
   "source": [
    "print (rain.shape)\n",
    "rain.columns"
   ]
  },
  {
   "cell_type": "code",
   "execution_count": 36,
   "metadata": {},
   "outputs": [],
   "source": [
    "# help(rain.fillna)"
   ]
  },
  {
   "cell_type": "code",
   "execution_count": 30,
   "metadata": {},
   "outputs": [
    {
     "data": {
      "text/html": [
       "<div>\n",
       "<style>\n",
       "    .dataframe thead tr:only-child th {\n",
       "        text-align: right;\n",
       "    }\n",
       "\n",
       "    .dataframe thead th {\n",
       "        text-align: left;\n",
       "    }\n",
       "\n",
       "    .dataframe tbody tr th {\n",
       "        vertical-align: top;\n",
       "    }\n",
       "</style>\n",
       "<table border=\"1\" class=\"dataframe\">\n",
       "  <thead>\n",
       "    <tr style=\"text-align: right;\">\n",
       "      <th></th>\n",
       "      <th>Jan</th>\n",
       "      <th>Feb</th>\n",
       "      <th>Mar</th>\n",
       "      <th>Apr</th>\n",
       "      <th>May</th>\n",
       "      <th>Jun</th>\n",
       "      <th>Jul</th>\n",
       "      <th>Aug</th>\n",
       "      <th>Sep</th>\n",
       "      <th>Oct</th>\n",
       "      <th>Nov</th>\n",
       "      <th>Dec</th>\n",
       "    </tr>\n",
       "    <tr>\n",
       "      <th>Year</th>\n",
       "      <th></th>\n",
       "      <th></th>\n",
       "      <th></th>\n",
       "      <th></th>\n",
       "      <th></th>\n",
       "      <th></th>\n",
       "      <th></th>\n",
       "      <th></th>\n",
       "      <th></th>\n",
       "      <th></th>\n",
       "      <th></th>\n",
       "      <th></th>\n",
       "    </tr>\n",
       "  </thead>\n",
       "  <tbody>\n",
       "    <tr>\n",
       "      <th>1871</th>\n",
       "      <td>2.76</td>\n",
       "      <td>4.58</td>\n",
       "      <td>5.01</td>\n",
       "      <td>4.13</td>\n",
       "      <td>3.30</td>\n",
       "      <td>2.98</td>\n",
       "      <td>1.58</td>\n",
       "      <td>2.36</td>\n",
       "      <td>0.95</td>\n",
       "      <td>1.31</td>\n",
       "      <td>2.13</td>\n",
       "      <td>1.65</td>\n",
       "    </tr>\n",
       "    <tr>\n",
       "      <th>1872</th>\n",
       "      <td>2.32</td>\n",
       "      <td>2.11</td>\n",
       "      <td>3.14</td>\n",
       "      <td>5.91</td>\n",
       "      <td>3.09</td>\n",
       "      <td>5.17</td>\n",
       "      <td>6.10</td>\n",
       "      <td>1.65</td>\n",
       "      <td>4.50</td>\n",
       "      <td>1.58</td>\n",
       "      <td>2.25</td>\n",
       "      <td>2.38</td>\n",
       "    </tr>\n",
       "    <tr>\n",
       "      <th>1873</th>\n",
       "      <td>2.96</td>\n",
       "      <td>7.14</td>\n",
       "      <td>4.11</td>\n",
       "      <td>3.59</td>\n",
       "      <td>6.31</td>\n",
       "      <td>4.20</td>\n",
       "      <td>4.63</td>\n",
       "      <td>2.36</td>\n",
       "      <td>1.81</td>\n",
       "      <td>4.28</td>\n",
       "      <td>4.36</td>\n",
       "      <td>5.94</td>\n",
       "    </tr>\n",
       "    <tr>\n",
       "      <th>1874</th>\n",
       "      <td>5.22</td>\n",
       "      <td>9.23</td>\n",
       "      <td>5.36</td>\n",
       "      <td>11.84</td>\n",
       "      <td>1.49</td>\n",
       "      <td>2.87</td>\n",
       "      <td>2.65</td>\n",
       "      <td>3.52</td>\n",
       "      <td>3.12</td>\n",
       "      <td>2.63</td>\n",
       "      <td>6.12</td>\n",
       "      <td>4.19</td>\n",
       "    </tr>\n",
       "    <tr>\n",
       "      <th>1875</th>\n",
       "      <td>6.15</td>\n",
       "      <td>3.06</td>\n",
       "      <td>8.14</td>\n",
       "      <td>4.22</td>\n",
       "      <td>1.73</td>\n",
       "      <td>5.63</td>\n",
       "      <td>8.12</td>\n",
       "      <td>1.60</td>\n",
       "      <td>3.79</td>\n",
       "      <td>1.25</td>\n",
       "      <td>5.46</td>\n",
       "      <td>4.30</td>\n",
       "    </tr>\n",
       "  </tbody>\n",
       "</table>\n",
       "</div>"
      ],
      "text/plain": [
       "       Jan   Feb   Mar    Apr   May   Jun   Jul   Aug   Sep   Oct   Nov   Dec\n",
       "Year                                                                         \n",
       "1871  2.76  4.58  5.01   4.13  3.30  2.98  1.58  2.36  0.95  1.31  2.13  1.65\n",
       "1872  2.32  2.11  3.14   5.91  3.09  5.17  6.10  1.65  4.50  1.58  2.25  2.38\n",
       "1873  2.96  7.14  4.11   3.59  6.31  4.20  4.63  2.36  1.81  4.28  4.36  5.94\n",
       "1874  5.22  9.23  5.36  11.84  1.49  2.87  2.65  3.52  3.12  2.63  6.12  4.19\n",
       "1875  6.15  3.06  8.14   4.22  1.73  5.63  8.12  1.60  3.79  1.25  5.46  4.30"
      ]
     },
     "execution_count": 30,
     "metadata": {},
     "output_type": "execute_result"
    }
   ],
   "source": [
    "# fill the NA in Oct with the mean precipitation in the month over the years.\n",
    "rain.fillna(value = {'Oct': rain.Oct.mean()}, inplace = True).head()"
   ]
  },
  {
   "cell_type": "markdown",
   "metadata": {},
   "source": [
    "calculate the sample moments of interest, the mean and varince by month.\n"
   ]
  },
  {
   "cell_type": "code",
   "execution_count": 42,
   "metadata": {},
   "outputs": [],
   "source": [
    "rain_mean = rain.mean()\n",
    "rain_var = rain.var()"
   ]
  },
  {
   "cell_type": "markdown",
   "metadata": {},
   "source": [
    "use these moments to estimate $\\alpha$ and $\\beta$ for **each month**:"
   ]
  },
  {
   "cell_type": "code",
   "execution_count": 43,
   "metadata": {},
   "outputs": [
    {
     "data": {
      "text/plain": [
       "(Jan    2.953407\n",
       " Feb    3.043866\n",
       " Mar    4.617770\n",
       " Apr    4.293694\n",
       " May    3.526199\n",
       " Jun    2.980965\n",
       " Jul    4.017624\n",
       " Aug    2.999766\n",
       " Sep    2.309383\n",
       " Oct    2.485616\n",
       " Nov    3.692511\n",
       " Dec    3.219070\n",
       " dtype: float64, Jan    1.531684\n",
       " Feb    1.346249\n",
       " Mar    1.077920\n",
       " Apr    0.979219\n",
       " May    1.226724\n",
       " Jun    1.299403\n",
       " Jul    0.969593\n",
       " Aug    1.122522\n",
       " Sep    1.462581\n",
       " Oct    1.050243\n",
       " Nov    0.998206\n",
       " Dec    1.297344\n",
       " dtype: float64)"
      ]
     },
     "execution_count": 43,
     "metadata": {},
     "output_type": "execute_result"
    }
   ],
   "source": [
    "alpha_mom = rain_mean **2 / rain_var\n",
    "beta_mom = rain_var / rain_mean\n",
    "\n",
    "alpha_mom, beta_mom"
   ]
  },
  {
   "cell_type": "markdown",
   "metadata": {},
   "source": [
    "use the `gamma.pdf` function in `scipy.stats.distributions` to plot the **ditribtuions implied by the calculated alphas and betas**. For example, here is January:"
   ]
  },
  {
   "cell_type": "code",
   "execution_count": 54,
   "metadata": {
    "scrolled": true
   },
   "outputs": [
    {
     "data": {
      "text/plain": [
       "[<matplotlib.lines.Line2D at 0x11366ccf8>]"
      ]
     },
     "execution_count": 54,
     "metadata": {},
     "output_type": "execute_result"
    },
    {
     "data": {
      "image/png": "[encoded data removed]",
      "text/plain": [
       "<matplotlib.figure.Figure at 0x11467c4a8>"
      ]
     },
     "metadata": {},
     "output_type": "display_data"
    }
   ],
   "source": [
    "from scipy.stats.distributions import gamma\n",
    "\n",
    "rain.Jan.hist(normed = True, bins = 20)\n",
    "\n",
    "# calculated parameters are alpha_mom[0] and beta_mom[0] for Jan\n",
    "# gamma pdf is only plottd over the x range of (0, 10)\n",
    "plt.plot(np.linspace(0, 10), gamma.pdf(np.linspace(0, 10), alpha_mom[0], beta_mom[0]))\n"
   ]
  },
  {
   "cell_type": "code",
   "execution_count": 79,
   "metadata": {},
   "outputs": [
    {
     "data": {
      "text/plain": [
       "[<matplotlib.lines.Line2D at 0x11823f390>]"
      ]
     },
     "execution_count": 79,
     "metadata": {},
     "output_type": "execute_result"
    },
    {
     "data": {
      "image/png": "[encoded data removed]",
      "text/plain": [
       "<matplotlib.figure.Figure at 0x11823fe48>"
      ]
     },
     "metadata": {},
     "output_type": "display_data"
    }
   ],
   "source": [
    "# for Feb, the caculated parameters gamma distribution\n",
    "\n",
    "rain.Feb.hist(normed = True, bins = 20)\n",
    "\n",
    "# calculated parameters are alpha_mom[0] and beta_mom[0] for Jan\n",
    "# gamma pdf is only plottd over the x range of (0, 10)\n",
    "plt.plot(np.linspace(0, 10), gamma.pdf(np.linspace(0, 10), alpha_mom[1], beta_mom[1]))\n"
   ]
  },
  {
   "cell_type": "markdown",
   "metadata": {},
   "source": [
    "loop over the months to create a grid of plots for the distribution of rainfall, using gamma distributions."
   ]
  },
  {
   "cell_type": "code",
   "execution_count": 77,
   "metadata": {},
   "outputs": [
    {
     "name": "stdout",
     "output_type": "stream",
     "text": [
      "Help on method get_xlim in module matplotlib.axes._base:\n",
      "\n",
      "get_xlim() method of matplotlib.axes._subplots.AxesSubplot instance\n",
      "    Get the x-axis range\n",
      "    \n",
      "    Returns\n",
      "    -------\n",
      "    xlimits : tuple\n",
      "        Returns the current x-axis limits as the tuple\n",
      "        (`left`, `right`).\n",
      "    \n",
      "    Notes\n",
      "    -----\n",
      "    The x-axis may be inverted, in which case the `left` value will\n",
      "    be greater than the `right` value.\n",
      "\n"
     ]
    }
   ],
   "source": [
    "help(ax.get_xlim)"
   ]
  },
  {
   "cell_type": "code",
   "execution_count": 83,
   "metadata": {
    "scrolled": true
   },
   "outputs": [],
   "source": [
    "# # axs = rain.hist gives the location of the suplots in the grid plot from the months\n",
    "# axs = rain.hist(normed = True, figsize = (15, 15), sharex = True, sharey = True, bins = 15, grid = False)\n",
    "\n",
    "# for ax in axs.ravel():\n",
    "    \n",
    "#     # get month/ get axes\n",
    "#     m = ax.get_title \n",
    "    \n",
    "#     # plot fitted distribution\n",
    "# #     x = np.linspace(*ax.get_xlim())\n",
    "# #     ax.plot(x, gamma.pdf(x, alpha_mom[m], beta_mom[m]))\n",
    "#     ax.plot(np.linspace(0, 10), alpha_mom[m], beta_mom[])\n",
    "    \n",
    "#     # annotate with parametere estimates\n",
    "#     label = \"alpha = {}\\nbeta = {}\".format(alpha_mom[m], beta_mom[m])\n",
    "#     ax.annotate(label, xy = (10, 0.2))"
   ]
  },
  {
   "cell_type": "code",
   "execution_count": null,
   "metadata": {
    "collapsed": true
   },
   "outputs": [],
   "source": []
  },
  {
   "cell_type": "markdown",
   "metadata": {},
   "source": [
    "### MLE \n",
    "MLE is preferred than MoM as the results have good theoretical properties.\n",
    "\n",
    "Suppose there is a sample $x = x_1,x_2,\\ldots,x_n$ of **n independent and identically distributed observations**, coming from a distribution with an unknown probability density function f0(.). It is however summarized that the function f0 belongs to a certain **family of distributions {f(.|θ), θ ∈ Θ}**, where θ is a vector of parameters for this family, called the parametric model.\n",
    "Therefore, f0 = f(.|θ0). θ0 is unknown and is referred to as the tru vlaue of the parameter vector. The goal is to find an estimator θ hat that is as close to θ0 as possible.\n",
    "\n",
    "To use MLE, **first specify the join density of the sample observations**. Sample observations are independent and identically distiburted from the same distribution.\n",
    "\n",
    "<div style=\"font-size: 100%;\">  \n",
    "$$f(x_1, x_2, x_3,...,x_n| \\theta) = f(x_1|\\theta) f(x_2|\\theta) f(x_3|\\theta) ... f(x_n|\\theta)$$\n",
    "</div>\n",
    "\n",
    "Look at the joint probability function from a different perspective by considering the observed sample values x1, x2, …, xn to be fixed \"parameters\" of the function, whereas θ will be the function's variable and allowed to vary freely; this same function will be called the **likelihood**:\n",
    "\n",
    "<div style=\"font-size: 100%;\">  \n",
    "$$L(\\theta; x_1, x_2, x_3,...,x_n) = f(x_1, x_2, x_3,...,x_n| \\theta) = f(x_1|\\theta) f(x_2|\\theta) f(x_3|\\theta) ... f(x_n|\\theta)$$\n",
    "</div>\n",
    "\n",
    "\n",
    "Note that \" ; \" denotes a **separation between the two categories of input arguments**: the parameters θ and the observations x1, x2, ..., xn.\n",
    "\n",
    "It is often more convenient when working with the natural logarithm of the likelihood function, called the** log-likelihood**:\n",
    "\n",
    "<div style=\"font-size: 100%;\">  \n",
    "$$ln(L(\\theta; x_1, x_2, x_3,...,x_n)) = ln(\\prod_{i=1}^n f(x_i | \\theta))  = \\sum_{i=1}^n \\ln f(x_i|\\theta)$$\n",
    "</div>\n",
    "\n",
    "MLE estimates the value of θ0 by finding the θ that maximizes log-likelihood function."
   ]
  },
  {
   "cell_type": "markdown",
   "metadata": {},
   "source": [
    "### Poisson distribution family \n",
    "\n",
    "For example the observed sample data are i.i.d. from **Poisson distribution**, which is of some discrete random variable used for counting usually."
   ]
  },
  {
   "cell_type": "code",
   "execution_count": 135,
   "metadata": {},
   "outputs": [
    {
     "data": {
      "text/plain": [
       "<matplotlib.text.Text at 0x11819f5c0>"
      ]
     },
     "execution_count": 135,
     "metadata": {},
     "output_type": "execute_result"
    },
    {
     "data": {
      "image/png": "[encoded data removed]",
      "text/plain": [
       "<matplotlib.figure.Figure at 0x117d7acc0>"
      ]
     },
     "metadata": {},
     "output_type": "display_data"
    }
   ],
   "source": [
    "# histogram, area of the bin measures the frequency of the poisson sample falls into the bin\n",
    "# np.random.poisson draws sample from the poisson distribution\n",
    "x = np.random.poisson(5, size = 1000)\n",
    "plt.hist(x, bins = 10, normed = True, align = 'left')\n",
    "plt.xlabel(\"x\")\n",
    "plt.ylabel(\"pr(x)\")"
   ]
  },
  {
   "cell_type": "code",
   "execution_count": 136,
   "metadata": {},
   "outputs": [],
   "source": [
    "# help(np.random.poisson)"
   ]
  },
  {
   "cell_type": "markdown",
   "metadata": {},
   "source": [
    "### How likely is the probability model given these data.\n",
    "The joint probability density function $\\prod_{i=1}^n Pr(x_i | \\theta)$ gives a measure of how **likely **it is to observe the sample values x1, x2,...,xn, given the parameter theta.\n",
    "\n",
    "Maximum likelihood fitting consists of choosing the appropriate **likelihood function**,\n",
    "\n",
    "<div style=\"font-size: 100%;\"> \n",
    "$$L(\\theta; x_1, x_2, x_3,.,x_n) = Pr(x_1, x_2, x_3,.,x_n| \\theta) = Pr(x_1|\\theta) Pr(x_2|\\theta) Pr(x_3|\\theta)Pr(x_n|\\theta) = \\prod_{i=1}^n Pr(x_i|\\theta)$$\n",
    "</div>\n",
    "\n",
    "\n",
    ",which is a measure of** how likely the observations are** ( like saying that the observations are fixed, but the parameters are allowed to vary freely), if the model is true."
   ]
  },
  {
   "cell_type": "markdown",
   "metadata": {},
   "source": [
    "Suppose the observed sample data are drawn from the Poisson distribution with parameter $\\lambda =5$.\n",
    "The following is the likelihood function for one point x:\n",
    "$$L(x|\\lambda=5) = \\frac{e^{-5} 5^y}{y!}$$"
   ]
  },
  {
   "cell_type": "code",
   "execution_count": 92,
   "metadata": {},
   "outputs": [
    {
     "data": {
      "text/plain": [
       "0.041303093412337726"
      ]
     },
     "execution_count": 92,
     "metadata": {},
     "output_type": "execute_result"
    }
   ],
   "source": [
    "# probability mass function of this Poisson distrbution with parameter lambda 5\n",
    "poisson_like = lambda x, lam: np.exp(-lam)*(lam**x)/(np.arange(x) + 1).prod()\n",
    "\n",
    "# test \n",
    "lam = 6 \n",
    "x_value = 10\n",
    "poisson_like(x_value, lam)"
   ]
  },
  {
   "cell_type": "markdown",
   "metadata": {},
   "source": [
    "### Probability mass function of Possion distribution with different parameter vlaues. "
   ]
  },
  {
   "cell_type": "code",
   "execution_count": 190,
   "metadata": {},
   "outputs": [
    {
     "name": "stderr",
     "output_type": "stream",
     "text": [
      "/Users/yueyingteng/miniconda3/lib/python3.5/site-packages/matplotlib/figure.py:403: UserWarning: matplotlib is currently using a non-GUI backend, so cannot show the figure\n",
      "  \"matplotlib is currently using a non-GUI backend, \"\n"
     ]
    },
    {
     "data": {
      "image/png": "[encoded data removed]",
      "text/plain": [
       "<matplotlib.figure.Figure at 0x11467da20>"
      ]
     },
     "metadata": {},
     "output_type": "display_data"
    }
   ],
   "source": [
    "# the x array used to make the histogram before\n",
    "x_values = np.random.poisson(5, size = 100)\n",
    "\n",
    "# different parameter values \n",
    "lambdas = np.linspace(1, 15, 5)\n",
    "\n",
    "plot = plt.figure(figsize = (10, 10))\n",
    "for lam in lambdas:\n",
    "\n",
    "    plt.scatter(np.unique(x_values), [poisson_like(x, lam) for x in np.unique(x_values)])\n",
    "    plt.plot(np.unique(x_values), [poisson_like(x, lam) for x in np.unique(x_values)])\n",
    "    plt.xlabel('x')\n",
    "    plt.ylabel('probability mass function Pr(x|$\\lambda$ = k)')\n",
    "    \n",
    "    plt.legend(lambdas, fontsize = 12)\n",
    "    plot.show()\n",
    "    "
   ]
  },
  {
   "cell_type": "code",
   "execution_count": 172,
   "metadata": {},
   "outputs": [
    {
     "name": "stdout",
     "output_type": "stream",
     "text": [
      "[ 0  1  2  3  4  5  6  7  8 10 11]\n"
     ]
    }
   ],
   "source": [
    "# Returns the sorted unique elements of an array\n",
    "print (np.unique(x_values))"
   ]
  },
  {
   "cell_type": "markdown",
   "metadata": {},
   "source": [
    "### Likelihood function with varying value of parameters and several 'fixed' observed data sample\n",
    "(the other way to look at the probability mass function) "
   ]
  },
  {
   "cell_type": "code",
   "execution_count": 189,
   "metadata": {
    "scrolled": false
   },
   "outputs": [
    {
     "name": "stderr",
     "output_type": "stream",
     "text": [
      "/Users/yueyingteng/miniconda3/lib/python3.5/site-packages/matplotlib/figure.py:403: UserWarning: matplotlib is currently using a non-GUI backend, so cannot show the figure\n",
      "  \"matplotlib is currently using a non-GUI backend, \"\n"
     ]
    },
    {
     "data": {
      "image/png": "[encoded data removed]",
      "text/plain": [
       "<matplotlib.figure.Figure at 0x117e5f3c8>"
      ]
     },
     "metadata": {},
     "output_type": "display_data"
    }
   ],
   "source": [
    "# the x array used to make the histogram before\n",
    "x_values = np.linspace(0, 10, 5)\n",
    "\n",
    "# different parameter values, num of elements in linspace as default is 50\n",
    "lambdas = np.linspace(0, 15)\n",
    "\n",
    "plot = plt.figure(figsize = (10, 10))\n",
    "for x in x_values:\n",
    "\n",
    "    plt.plot(lambdas, [poisson_like(x, lam) for lam in lambdas])\n",
    "    plt.xlabel('$\\lambda$')\n",
    "    plt.ylabel('Likelihood function Pr(x = k|$\\lambda$)')\n",
    "    \n",
    "    plt.legend(x_values, fontsize = 12)\n",
    "    plot.show()\n",
    "    "
   ]
  },
  {
   "cell_type": "markdown",
   "metadata": {},
   "source": [
    "### Likelihood function vs PMF\n",
    "- The likelihood is a function of the parameter(s) given the data\n",
    "- The PDF returns the probability of data given a particular parameter value."
   ]
  },
  {
   "cell_type": "markdown",
   "metadata": {},
   "source": [
    "### Finding the MLE"
   ]
  },
  {
   "cell_type": "markdown",
   "metadata": {},
   "source": [
    "**Numerical optimization** alogarithms take an initial \"guess\" at the solution, and iteratively improve the guess until it gets \"close enough\" to the answer.\n",
    "\n",
    "Newton-Raphson algorithm:\n",
    "\n",
    "<div style=\"font-size: 100%;\">  \n",
    "$$x_{n+1} = x_n - \\frac{f(x_n)}{f'(x_n)}$$\n",
    "</div>\n",
    "\n",
    "The following is a graphical example of how Newtone-Raphson converges on a solution, using an arbitrary function:"
   ]
  },
  {
   "cell_type": "code",
   "execution_count": 199,
   "metadata": {},
   "outputs": [
    {
     "data": {
      "text/plain": [
       "<matplotlib.text.Text at 0x11f775630>"
      ]
     },
     "execution_count": 199,
     "metadata": {},
     "output_type": "execute_result"
    },
    {
     "data": {
      "image/png": "[encoded data removed]",
      "text/plain": [
       "<matplotlib.figure.Figure at 0x120d65630>"
      ]
     },
     "metadata": {},
     "output_type": "display_data"
    }
   ],
   "source": [
    "from scipy.optimize import newton\n",
    "# location of the starting points affect optimization results \n",
    "\n",
    "# arbitrary function \n",
    "func = lambda x: 3./(1 + 400*np.exp(-2*x)) -1\n",
    "\n",
    "plot = plt.figure(figsize = (10, 10))\n",
    "x_val = np.linspace(0, 6)\n",
    "\n",
    "# the function \n",
    "plt.plot(x_val, func(x_val))\n",
    "plt.text(5.3, 2.1, '$f(x)$', fontsize=16)\n",
    "\n",
    "# zero line\n",
    "plt.plot([0,6], [0,0], 'k-')\n",
    "\n",
    "# value at step n \n",
    "plt.plot([4, 4], [0, func(4)], 'k:')\n",
    "plt.text(4, -.2, '$x_n$', fontsize = 16)\n",
    "\n",
    "# tangent line\n",
    "tanline = lambda x: -0.858 + 0.626*x\n",
    "plt.plot(x_val, tanline(x_val), \"r--\")\n",
    "\n",
    "# plot at step n+1\n",
    "xprime = 0.858/0.626\n",
    "plt.plot([xprime, xprime], [tanline(xprime), func(xprime)], 'k:')\n",
    "plt.text(xprime + .1, -.2, '$x_{n+1}$', fontsize = 16)\n",
    "\n",
    "\n"
   ]
  },
  {
   "cell_type": "markdown",
   "metadata": {},
   "source": [
    "To apply the Newton-Raphson algorithm, a function that returns a vector containing the first and second derivatives of the function with respect to the variable of interest is needed. In the case of gamma parameter MLE, this is:\n"
   ]
  },
  {
   "cell_type": "code",
   "execution_count": null,
   "metadata": {
    "collapsed": true
   },
   "outputs": [],
   "source": []
  },
  {
   "cell_type": "code",
   "execution_count": null,
   "metadata": {
    "collapsed": true
   },
   "outputs": [],
   "source": []
  },
  {
   "cell_type": "code",
   "execution_count": null,
   "metadata": {
    "collapsed": true
   },
   "outputs": [],
   "source": []
  },
  {
   "cell_type": "code",
   "execution_count": null,
   "metadata": {
    "collapsed": true
   },
   "outputs": [],
   "source": []
  },
  {
   "cell_type": "code",
   "execution_count": null,
   "metadata": {
    "collapsed": true
   },
   "outputs": [],
   "source": []
  },
  {
   "cell_type": "markdown",
   "metadata": {},
   "source": [
    "### Kernel estimation"
   ]
  },
  {
   "cell_type": "markdown",
   "metadata": {},
   "source": [
    "### Regression model"
   ]
  },
  {
   "cell_type": "markdown",
   "metadata": {},
   "source": [
    "### Model selection "
   ]
  },
  {
   "cell_type": "code",
   "execution_count": null,
   "metadata": {
    "collapsed": true
   },
   "outputs": [],
   "source": []
  }
 ],
 "metadata": {
  "kernelspec": {
   "display_name": "Python 3",
   "language": "python",
   "name": "python3"
  },
  "language_info": {
   "codemirror_mode": {
    "name": "ipython",
    "version": 3
   },
   "file_extension": ".py",
   "mimetype": "text/x-python",
   "name": "python",
   "nbconvert_exporter": "python",
   "pygments_lexer": "ipython3",
   "version": "3.5.2"
  }
 },
 "nbformat": 4,
 "nbformat_minor": 2
}
